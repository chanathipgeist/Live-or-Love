{
 "cells": [
  {
   "cell_type": "code",
   "execution_count": null,
   "id": "c82ea922-832b-4f07-a9ef-51d56ea2e8bc",
   "metadata": {},
   "outputs": [],
   "source": [
    "import streamlit as st\n",
    "import pandas as pd\n",
    "import pickle\n",
    "\n",
    "with open('adaboost_model.pkl', 'rb') as file:\n",
    "    loaded_model = pickle.load(file)\n",
    "    \n",
    "# Load the questions from the JSON file\n",
    "with open('questions.json', 'r') as file:\n",
    "    questions = json.load(file)\n",
    "\n",
    "# Create a DataFrame to store answers\n",
    "answers = pd.DataFrame(columns=[f'Atr{i}' for i in range(1, 55)])\n"
   ]
  }
 ],
 "metadata": {
  "kernelspec": {
   "display_name": "Python 3 (ipykernel)",
   "language": "python",
   "name": "python3"
  },
  "language_info": {
   "codemirror_mode": {
    "name": "ipython",
    "version": 3
   },
   "file_extension": ".py",
   "mimetype": "text/x-python",
   "name": "python",
   "nbconvert_exporter": "python",
   "pygments_lexer": "ipython3",
   "version": "3.12.1"
  }
 },
 "nbformat": 4,
 "nbformat_minor": 5
}
